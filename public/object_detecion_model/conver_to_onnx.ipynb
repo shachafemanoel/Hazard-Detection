{
 "cells": [
  {
   "cell_type": "code",
   "execution_count": null,
   "metadata": {},
   "outputs": [],
   "source": [
    "import sys\n",
    "\n",
    "print(\"גרסת Python שלך:\", sys.version)\n",
    "\n",
    "# בדיקה אם גרסת Python מתחת ל-3.10\n",
    "if sys.version_info < (3, 10):\n",
    "    print(\"\\n⚠️ גרסת Python שלך היא מתחת ל-3.10. כדי להתקין TensorFlow==2.19.0 (דרוש על ידי tf_keras), מומלץ לעדכן לגרסת Python 3.10 או 3.11.\")\n",
    "else:\n",
    "    print(\"\\nגרסת Python שלך מתאימה, אך עדיין יכול להיות שיש קונפליקטים נוספים בתלויות.\")\n"
   ]
  },
  {
   "cell_type": "code",
   "execution_count": null,
   "metadata": {},
   "outputs": [],
   "source": [
    "import subprocess\n",
    "import sys\n",
    "\n",
    "def upgrade_package(package_name):\n",
    "    try:\n",
    "        print(f\"מעדכן את {package_name} לגרסה האחרונה...\")\n",
    "        subprocess.check_call([sys.executable, \"-m\", \"pip\", \"install\", \"--upgrade\", package_name])\n",
    "        print(f\"{package_name} עודכן בהצלחה!\\n\")\n",
    "    except subprocess.CalledProcessError as e:\n",
    "        print(f\"ישנה בעיה בעדכון {package_name}: {e}\")\n",
    "\n",
    "# עדכון onnx2tf\n",
    "upgrade_package(\"onnx2tf\")\n",
    "\n",
    "# לדוגמה, אם תרצה לעדכן גם את ultralytics:\n",
    "# upgrade_package(\"ultralytics\")\n"
   ]
  },
  {
   "cell_type": "code",
   "execution_count": null,
   "metadata": {},
   "outputs": [],
   "source": [
    "from ultralytics import YOLO\n",
    "\n",
    "# טען את מודל ה-pt\n",
    "model = YOLO('road_damage_detection_last_version.pt')\n",
    "\n",
    "# נסה את הפרמטר nms=True (או include_nms=True), תלוי בגירסה\n",
    "# אם אתה על גירסה חדשה מאוד וזה לא עובד - ייתכן שהסירו את התמיכה לחלוטין\n",
    "model.export(\n",
    "    format='tfjs',\n",
    "    imgsz=640,\n",
    "    nms=True  # או: include_nms=True\n",
    ")\n"
   ]
  },
  {
   "cell_type": "code",
   "execution_count": null,
   "metadata": {},
   "outputs": [],
   "source": [
    "!pip install roboflow\n",
    "\n",
    "from roboflow import Roboflow\n",
    "rf = Roboflow(api_key=\"BQvvxKrJPoAaNkv4ZXlr\")\n",
    "project = rf.workspace(\"hh-clsza\").project(\"hh-nkpc0\")\n",
    "version = project.version(1)\n",
    "dataset = version.download(\"yolov12\")\n",
    "                "
   ]
  },
  {
   "cell_type": "code",
   "execution_count": null,
   "metadata": {},
   "outputs": [],
   "source": [
    "from ultralytics import YOLO\n",
    "\n",
    "# Load the YOLO11 model\n",
    "\n",
    "# Export the model to TF.js format\n",
    "model.export(format=\"tfjs\")  # creates '/yolo11n_web_model'\n",
    "\n",
    "# Load the exported TF.js model\n",
    "tfjs_model = YOLO(\"./yolo11n_web_model\")\n",
    "\n",
    "# Run inference\n",
    "results = tfjs_model(\"https://ultralytics.com/images/bus.jpg\")"
   ]
  },
  {
   "cell_type": "code",
   "execution_count": 19,
   "metadata": {},
   "outputs": [
    {
     "name": "stdout",
     "output_type": "stream",
     "text": [
      "Ultralytics 8.3.99 🚀 Python-3.9.6 torch-2.2.2 CPU (Intel Core(TM) i7-9750H 2.60GHz)\n",
      "YOLOv12n summary (fused): 159 layers, 2,558,873 parameters, 0 gradients, 6.3 GFLOPs\n",
      "\n",
      "\u001b[34m\u001b[1mPyTorch:\u001b[0m starting from '/Users/shachafemanoel/Documents/Hazard-Detection/public/object_detecion_model/road_damage_detection_last_version.pt' with input shape (1, 3, 640, 640) BCHW and output shape(s) (1, 300, 6) (5.3 MB)\n",
      "\u001b[31m\u001b[1mrequirements:\u001b[0m Ultralytics requirements ['ai-edge-litert>=1.2.0', 'onnx2tf>=1.26.3', 'protobuf>=5'] not found, attempting AutoUpdate...\n"
     ]
    },
    {
     "name": "stderr",
     "output_type": "stream",
     "text": [
      "\u001b[31mERROR: Could not find a version that satisfies the requirement ai-edge-litert>=1.2.0 (from versions: 1.0.0, 1.0.1)\u001b[0m\u001b[31m\n",
      "\u001b[0m\u001b[31mERROR: No matching distribution found for ai-edge-litert>=1.2.0\u001b[0m\u001b[31m\n",
      "\u001b[0m"
     ]
    },
    {
     "name": "stdout",
     "output_type": "stream",
     "text": [
      "Retry 1/2 failed: Command 'pip install --no-cache-dir \"ai-edge-litert>=1.2.0\" \"onnx2tf>=1.26.3\" \"protobuf>=5\" --extra-index-url https://pypi.ngc.nvidia.com' returned non-zero exit status 1.\n"
     ]
    },
    {
     "name": "stderr",
     "output_type": "stream",
     "text": [
      "\u001b[31mERROR: Could not find a version that satisfies the requirement ai-edge-litert>=1.2.0 (from versions: 1.0.0, 1.0.1)\u001b[0m\u001b[31m\n",
      "\u001b[0m"
     ]
    },
    {
     "name": "stdout",
     "output_type": "stream",
     "text": [
      "Retry 2/2 failed: Command 'pip install --no-cache-dir \"ai-edge-litert>=1.2.0\" \"onnx2tf>=1.26.3\" \"protobuf>=5\" --extra-index-url https://pypi.ngc.nvidia.com' returned non-zero exit status 1.\n",
      "\u001b[31m\u001b[1mrequirements:\u001b[0m ❌ Command 'pip install --no-cache-dir \"ai-edge-litert>=1.2.0\" \"onnx2tf>=1.26.3\" \"protobuf>=5\" --extra-index-url https://pypi.ngc.nvidia.com' returned non-zero exit status 1.\n",
      "\n",
      "\u001b[34m\u001b[1mTensorFlow SavedModel:\u001b[0m starting export with tensorflow 2.16.2...\n",
      "\n",
      "\u001b[34m\u001b[1mONNX:\u001b[0m starting export with onnx 1.16.1 opset 12...\n"
     ]
    },
    {
     "name": "stderr",
     "output_type": "stream",
     "text": [
      "\u001b[31mERROR: No matching distribution found for ai-edge-litert>=1.2.0\u001b[0m\u001b[31m\n",
      "\u001b[0m"
     ]
    },
    {
     "name": "stdout",
     "output_type": "stream",
     "text": [
      "\u001b[34m\u001b[1mONNX:\u001b[0m slimming with onnxslim 0.1.49...\n",
      "\u001b[34m\u001b[1mONNX:\u001b[0m export success ✅ 8.8s, saved as '/Users/shachafemanoel/Documents/Hazard-Detection/public/object_detecion_model/road_damage_detection_last_version.onnx' (10.3 MB)\n",
      "\u001b[34m\u001b[1mTensorFlow SavedModel:\u001b[0m collecting INT8 calibration images from 'data=/Users/shachafemanoel/Documents/Hazard-Detection/public/object_detecion_model/RDD2022-3/data.yaml'\n"
     ]
    },
    {
     "name": "stderr",
     "output_type": "stream",
     "text": [
      "Scanning /Users/shachafemanoel/Documents/Hazard-Detection/public/object_detecion_model/RDD2022-3/valid/labels... 7678 images, 2309 backgrounds, 0 corrupt: 100%|██████████| 7678/7678 [00:04<00:00, 1579.02it/s]"
     ]
    },
    {
     "name": "stdout",
     "output_type": "stream",
     "text": [
      "WARNING ⚠️ /Users/shachafemanoel/Documents/Hazard-Detection/public/object_detecion_model/RDD2022-3/valid/images/Japan_006916_jpg.rf.5ec6ac4a0402f0f061eda3729d679fb0.jpg: 1 duplicate labels removed\n"
     ]
    },
    {
     "name": "stderr",
     "output_type": "stream",
     "text": [
      "\n"
     ]
    },
    {
     "name": "stdout",
     "output_type": "stream",
     "text": [
      "New cache created: /Users/shachafemanoel/Documents/Hazard-Detection/public/object_detecion_model/RDD2022-3/valid/labels.cache\n"
     ]
    },
    {
     "ename": "",
     "evalue": "",
     "output_type": "error",
     "traceback": [
      "\u001b[1;31mThe Kernel crashed while executing code in the current cell or a previous cell. \n",
      "\u001b[1;31mPlease review the code in the cell(s) to identify a possible cause of the failure. \n",
      "\u001b[1;31mClick <a href='https://aka.ms/vscodeJupyterKernelCrash'>here</a> for more info. \n",
      "\u001b[1;31mView Jupyter <a href='command:jupyter.viewOutput'>log</a> for further details."
     ]
    }
   ],
   "source": [
    "from ultralytics import YOLO\n",
    "\n",
    "model = YOLO(\"/Users/shachafemanoel/Documents/Hazard-Detection/public/object_detecion_model/road_damage_detection_last_version.pt\")\n",
    "# שים לב: פורמט \"tflite\" ללא תווים נוספים, וספק data לקליברציה\n",
    "model.export(\n",
    "    format=\"tflite\", \n",
    "    int8=True, \n",
    "    data=\"/Users/shachafemanoel/Documents/Hazard-Detection/public/object_detecion_model/RDD2022-3/data.yaml\",\n",
    "    opset=12, \n",
    "    imgsz=640,\n",
    "    nms=True\n",
    ")\n"
   ]
  },
  {
   "cell_type": "code",
   "execution_count": 18,
   "metadata": {},
   "outputs": [
    {
     "name": "stdout",
     "output_type": "stream",
     "text": [
      "Defaulting to user installation because normal site-packages is not writeable\n",
      "Requirement already satisfied: roboflow in /Users/shachafemanoel/Library/Python/3.9/lib/python/site-packages (1.1.56)\n",
      "Requirement already satisfied: certifi in /Users/shachafemanoel/Library/Python/3.9/lib/python/site-packages (from roboflow) (2024.12.14)\n",
      "Requirement already satisfied: idna==3.7 in /Users/shachafemanoel/Library/Python/3.9/lib/python/site-packages (from roboflow) (3.7)\n",
      "Requirement already satisfied: cycler in /Users/shachafemanoel/Library/Python/3.9/lib/python/site-packages (from roboflow) (0.12.1)\n",
      "Requirement already satisfied: kiwisolver>=1.3.1 in /Users/shachafemanoel/Library/Python/3.9/lib/python/site-packages (from roboflow) (1.4.7)\n",
      "Requirement already satisfied: matplotlib in /Users/shachafemanoel/Library/Python/3.9/lib/python/site-packages (from roboflow) (3.9.4)\n",
      "Requirement already satisfied: numpy>=1.18.5 in /Users/shachafemanoel/Library/Python/3.9/lib/python/site-packages (from roboflow) (1.26.4)\n",
      "Requirement already satisfied: opencv-python-headless==4.10.0.84 in /Users/shachafemanoel/Library/Python/3.9/lib/python/site-packages (from roboflow) (4.10.0.84)\n",
      "Requirement already satisfied: Pillow>=7.1.2 in /Users/shachafemanoel/Library/Python/3.9/lib/python/site-packages (from roboflow) (10.2.0)\n",
      "Requirement already satisfied: python-dateutil in /Users/shachafemanoel/Library/Python/3.9/lib/python/site-packages (from roboflow) (2.9.0.post0)\n",
      "Requirement already satisfied: python-dotenv in /Users/shachafemanoel/Library/Python/3.9/lib/python/site-packages (from roboflow) (1.0.0)\n",
      "Requirement already satisfied: requests in /Users/shachafemanoel/Library/Python/3.9/lib/python/site-packages (from roboflow) (2.32.3)\n",
      "Requirement already satisfied: six in /Users/shachafemanoel/Library/Python/3.9/lib/python/site-packages (from roboflow) (1.17.0)\n",
      "Requirement already satisfied: urllib3>=1.26.6 in /Users/shachafemanoel/Library/Python/3.9/lib/python/site-packages (from roboflow) (1.26.15)\n",
      "Requirement already satisfied: tqdm>=4.41.0 in /Users/shachafemanoel/Library/Python/3.9/lib/python/site-packages (from roboflow) (4.67.1)\n",
      "Requirement already satisfied: PyYAML>=5.3.1 in /Users/shachafemanoel/Library/Python/3.9/lib/python/site-packages (from roboflow) (6.0.2)\n",
      "Requirement already satisfied: requests-toolbelt in /Users/shachafemanoel/Library/Python/3.9/lib/python/site-packages (from roboflow) (0.10.1)\n",
      "Requirement already satisfied: filetype in /Users/shachafemanoel/Library/Python/3.9/lib/python/site-packages (from roboflow) (1.2.0)\n",
      "Requirement already satisfied: contourpy>=1.0.1 in /Users/shachafemanoel/Library/Python/3.9/lib/python/site-packages (from matplotlib->roboflow) (1.3.0)\n",
      "Requirement already satisfied: fonttools>=4.22.0 in /Users/shachafemanoel/Library/Python/3.9/lib/python/site-packages (from matplotlib->roboflow) (4.55.6)\n",
      "Requirement already satisfied: packaging>=20.0 in /Users/shachafemanoel/Library/Python/3.9/lib/python/site-packages (from matplotlib->roboflow) (23.2)\n",
      "Requirement already satisfied: pyparsing>=2.3.1 in /Users/shachafemanoel/Library/Python/3.9/lib/python/site-packages (from matplotlib->roboflow) (3.2.1)\n",
      "Requirement already satisfied: importlib-resources>=3.2.0 in /Users/shachafemanoel/Library/Python/3.9/lib/python/site-packages (from matplotlib->roboflow) (6.5.2)\n",
      "Requirement already satisfied: charset-normalizer<4,>=2 in /Users/shachafemanoel/Library/Python/3.9/lib/python/site-packages (from requests->roboflow) (3.4.1)\n",
      "Requirement already satisfied: zipp>=3.1.0 in /Users/shachafemanoel/Library/Python/3.9/lib/python/site-packages (from importlib-resources>=3.2.0->matplotlib->roboflow) (3.21.0)\n",
      "loading Roboflow workspace...\n",
      "loading Roboflow project...\n"
     ]
    },
    {
     "name": "stderr",
     "output_type": "stream",
     "text": [
      "Downloading Dataset Version Zip in RDD2022-3 to yolov12:: 100%|██████████| 5252056/5252056 [03:40<00:00, 23831.39it/s]"
     ]
    },
    {
     "name": "stdout",
     "output_type": "stream",
     "text": [
      "\n"
     ]
    },
    {
     "name": "stderr",
     "output_type": "stream",
     "text": [
      "\n",
      "Extracting Dataset Version Zip to RDD2022-3 in yolov12:: 100%|██████████| 184252/184252 [01:29<00:00, 2066.40it/s]\n"
     ]
    }
   ],
   "source": [
    "!pip install roboflow\n",
    "\n",
    "from roboflow import Roboflow\n",
    "\n",
    "rf = Roboflow(api_key=\"BQvvxKrJPoAaNkv4ZXlr\")\n",
    "project = rf.workspace(\"devflo\").project(\"rdd2022-ook7x\")\n",
    "version = project.version(3)\n",
    "dataset = version.download(\"yolov12\")\n"
   ]
  },
  {
   "cell_type": "code",
   "execution_count": null,
   "metadata": {},
   "outputs": [],
   "source": [
    "import tensorflow as tf\n",
    "\n",
    "# הגדר את הנתיב לספריית המודל ששמור כ-SavedModel\n",
    "saved_model_dir = \"/Users/shachafemanoel/Documents/Hazard-Detection/public/object_detecion_model/road_damage_detection_last_version_saved_model\"  # שנה לנתיב המתאים\n",
    "\n",
    "# יצירת converter מ-SavedModel\n",
    "converter = tf.lite.TFLiteConverter.from_saved_model(saved_model_dir)\n",
    "\n",
    "# אפשרות: להפעיל אופטימיזציות (למשל, למקסם ביצועים או להקטין גודל קובץ)\n",
    "converter.optimizations = [tf.lite.Optimize.DEFAULT]\n",
    "\n",
    "# המרת המודל ל־TFLite\n",
    "tflite_model = converter.convert()\n",
    "\n",
    "# כתיבת קובץ TFLite\n",
    "with open(\"model.tflite\", \"wb\") as f:\n",
    "    f.write(tflite_model)\n",
    "\n",
    "print(\"Conversion to TFLite complete! The model is saved as model.tflite\")\n"
   ]
  },
  {
   "cell_type": "code",
   "execution_count": 2,
   "metadata": {},
   "outputs": [
    {
     "ename": "FileNotFoundError",
     "evalue": "[Errno 2] No such file or directory: 'Users/shachafemanoel/Desktop/custom_model.tflite'",
     "output_type": "error",
     "traceback": [
      "\u001b[0;31m---------------------------------------------------------------------------\u001b[0m",
      "\u001b[0;31mFileNotFoundError\u001b[0m                         Traceback (most recent call last)",
      "Cell \u001b[0;32mIn[2], line 11\u001b[0m\n\u001b[1;32m      7\u001b[0m EXPORT_DIR \u001b[38;5;241m=\u001b[39m \u001b[38;5;124m\"\u001b[39m\u001b[38;5;124mUsers/shachafemanoel/Desktop\u001b[39m\u001b[38;5;124m\"\u001b[39m  \u001b[38;5;66;03m# איפה לשמור את הקובץ החדש\u001b[39;00m\n\u001b[1;32m      9\u001b[0m \u001b[38;5;66;03m# צור את ה-Metadata Writer עם נורמליזציה ו-labels\u001b[39;00m\n\u001b[1;32m     10\u001b[0m writer \u001b[38;5;241m=\u001b[39m object_detector\u001b[38;5;241m.\u001b[39mMetadataWriter\u001b[38;5;241m.\u001b[39mcreate_for_inference(\n\u001b[0;32m---> 11\u001b[0m     model_buffer\u001b[38;5;241m=\u001b[39m\u001b[38;5;28;43mopen\u001b[39;49m\u001b[43m(\u001b[49m\u001b[43mMODEL_PATH\u001b[49m\u001b[43m,\u001b[49m\u001b[43m \u001b[49m\u001b[38;5;124;43m\"\u001b[39;49m\u001b[38;5;124;43mrb\u001b[39;49m\u001b[38;5;124;43m\"\u001b[39;49m\u001b[43m)\u001b[49m\u001b[38;5;241m.\u001b[39mread(),\n\u001b[1;32m     12\u001b[0m     input_norm_mean\u001b[38;5;241m=\u001b[39m[\u001b[38;5;241m127.5\u001b[39m],\n\u001b[1;32m     13\u001b[0m     input_norm_std\u001b[38;5;241m=\u001b[39m[\u001b[38;5;241m127.5\u001b[39m],\n\u001b[1;32m     14\u001b[0m     label_file_paths\u001b[38;5;241m=\u001b[39m[LABEL_FILE]\n\u001b[1;32m     15\u001b[0m )\n\u001b[1;32m     17\u001b[0m \u001b[38;5;66;03m# תוסיף את ה-Metadata\u001b[39;00m\n\u001b[1;32m     18\u001b[0m model_with_metadata \u001b[38;5;241m=\u001b[39m writer\u001b[38;5;241m.\u001b[39mpopulate()\n",
      "File \u001b[0;32m~/Library/Python/3.9/lib/python/site-packages/IPython/core/interactiveshell.py:310\u001b[0m, in \u001b[0;36m_modified_open\u001b[0;34m(file, *args, **kwargs)\u001b[0m\n\u001b[1;32m    303\u001b[0m \u001b[38;5;28;01mif\u001b[39;00m file \u001b[38;5;129;01min\u001b[39;00m {\u001b[38;5;241m0\u001b[39m, \u001b[38;5;241m1\u001b[39m, \u001b[38;5;241m2\u001b[39m}:\n\u001b[1;32m    304\u001b[0m     \u001b[38;5;28;01mraise\u001b[39;00m \u001b[38;5;167;01mValueError\u001b[39;00m(\n\u001b[1;32m    305\u001b[0m         \u001b[38;5;124mf\u001b[39m\u001b[38;5;124m\"\u001b[39m\u001b[38;5;124mIPython won\u001b[39m\u001b[38;5;124m'\u001b[39m\u001b[38;5;124mt let you open fd=\u001b[39m\u001b[38;5;132;01m{\u001b[39;00mfile\u001b[38;5;132;01m}\u001b[39;00m\u001b[38;5;124m by default \u001b[39m\u001b[38;5;124m\"\u001b[39m\n\u001b[1;32m    306\u001b[0m         \u001b[38;5;124m\"\u001b[39m\u001b[38;5;124mas it is likely to crash IPython. If you know what you are doing, \u001b[39m\u001b[38;5;124m\"\u001b[39m\n\u001b[1;32m    307\u001b[0m         \u001b[38;5;124m\"\u001b[39m\u001b[38;5;124myou can use builtins\u001b[39m\u001b[38;5;124m'\u001b[39m\u001b[38;5;124m open.\u001b[39m\u001b[38;5;124m\"\u001b[39m\n\u001b[1;32m    308\u001b[0m     )\n\u001b[0;32m--> 310\u001b[0m \u001b[38;5;28;01mreturn\u001b[39;00m \u001b[43mio_open\u001b[49m\u001b[43m(\u001b[49m\u001b[43mfile\u001b[49m\u001b[43m,\u001b[49m\u001b[43m \u001b[49m\u001b[38;5;241;43m*\u001b[39;49m\u001b[43margs\u001b[49m\u001b[43m,\u001b[49m\u001b[43m \u001b[49m\u001b[38;5;241;43m*\u001b[39;49m\u001b[38;5;241;43m*\u001b[39;49m\u001b[43mkwargs\u001b[49m\u001b[43m)\u001b[49m\n",
      "\u001b[0;31mFileNotFoundError\u001b[0m: [Errno 2] No such file or directory: 'Users/shachafemanoel/Desktop/custom_model.tflite'"
     ]
    }
   ],
   "source": [
    "from tflite_support.metadata_writers import object_detector\n",
    "from tflite_support.metadata_writers import writer_utils\n",
    "\n",
    "# נתיבי הקבצים\n",
    "MODEL_PATH = \"Users/shachafemanoel/Desktop/custom_model.tflite\"\n",
    "LABEL_FILE = \"Users/shachafemanoel/Desktop/labels.txt\"\n",
    "EXPORT_DIR = \"Users/shachafemanoel/Desktop\"  # איפה לשמור את הקובץ החדש\n",
    "\n",
    "# צור את ה-Metadata Writer עם נורמליזציה ו-labels\n",
    "writer = object_detector.MetadataWriter.create_for_inference(\n",
    "    model_buffer=open(MODEL_PATH, \"rb\").read(),\n",
    "    input_norm_mean=[127.5],\n",
    "    input_norm_std=[127.5],\n",
    "    label_file_paths=[LABEL_FILE]\n",
    ")\n",
    "\n",
    "# תוסיף את ה-Metadata\n",
    "model_with_metadata = writer.populate()\n",
    "\n",
    "# שמור את הקובץ החדש\n",
    "writer_utils.save_file(model_with_metadata, f\"{EXPORT_DIR}/custom_model_with_metadata.tflite\")\n",
    "\n",
    "print(\"✅ Metadata נוסף בהצלחה! המודל החדש נשמר ל-Desktop.\")\n"
   ]
  },
  {
   "cell_type": "code",
   "execution_count": null,
   "metadata": {},
   "outputs": [],
   "source": [
    "from ultralytics import YOLO\n",
    "\n",
    "# Load a model\n",
    "model = YOLO(\"yolo11n.pt\")  # load an official model\n",
    "model = YOLO(\"/Users/shachafemanoel/Documents/Hazard-Detection/public/object_detecion_model/road_damage_detection_last_version.pt\")  # load a custom trained model\n",
    "\n",
    "# Export the model\n",
    "model.export(format=\"tflite\",data=\")"
   ]
  }
 ],
 "metadata": {
  "kernelspec": {
   "display_name": "Python 3",
   "language": "python",
   "name": "python3"
  },
  "language_info": {
   "codemirror_mode": {
    "name": "ipython",
    "version": 3
   },
   "file_extension": ".py",
   "mimetype": "text/x-python",
   "name": "python",
   "nbconvert_exporter": "python",
   "pygments_lexer": "ipython3",
   "version": "3.9.6"
  }
 },
 "nbformat": 4,
 "nbformat_minor": 2
}
