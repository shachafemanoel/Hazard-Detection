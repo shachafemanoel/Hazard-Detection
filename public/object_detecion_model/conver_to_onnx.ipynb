{
 "cells": [
  {
   "cell_type": "code",
   "execution_count": null,
   "metadata": {},
   "outputs": [],
   "source": [
    "import sys\n",
    "\n",
    "print(\"גרסת Python שלך:\", sys.version)\n",
    "\n",
    "# בדיקה אם גרסת Python מתחת ל-3.10\n",
    "if sys.version_info < (3, 10):\n",
    "    print(\"\\n⚠️ גרסת Python שלך היא מתחת ל-3.10. כדי להתקין TensorFlow==2.19.0 (דרוש על ידי tf_keras), מומלץ לעדכן לגרסת Python 3.10 או 3.11.\")\n",
    "else:\n",
    "    print(\"\\nגרסת Python שלך מתאימה, אך עדיין יכול להיות שיש קונפליקטים נוספים בתלויות.\")\n"
   ]
  },
  {
   "cell_type": "code",
   "execution_count": null,
   "metadata": {},
   "outputs": [],
   "source": [
    "import subprocess\n",
    "import sys\n",
    "\n",
    "def upgrade_package(package_name):\n",
    "    try:\n",
    "        print(f\"מעדכן את {package_name} לגרסה האחרונה...\")\n",
    "        subprocess.check_call([sys.executable, \"-m\", \"pip\", \"install\", \"--upgrade\", package_name])\n",
    "        print(f\"{package_name} עודכן בהצלחה!\\n\")\n",
    "    except subprocess.CalledProcessError as e:\n",
    "        print(f\"ישנה בעיה בעדכון {package_name}: {e}\")\n",
    "\n",
    "# עדכון onnx2tf\n",
    "upgrade_package(\"onnx2tf\")\n",
    "\n",
    "# לדוגמה, אם תרצה לעדכן גם את ultralytics:\n",
    "# upgrade_package(\"ultralytics\")\n"
   ]
  },
  {
   "cell_type": "code",
   "execution_count": null,
   "metadata": {},
   "outputs": [],
   "source": [
    "from ultralytics import YOLO\n",
    "\n",
    "# טען את מודל ה-pt\n",
    "model = YOLO('road_damage_detection_last_version.pt')\n",
    "\n",
    "# נסה את הפרמטר nms=True (או include_nms=True), תלוי בגירסה\n",
    "# אם אתה על גירסה חדשה מאוד וזה לא עובד - ייתכן שהסירו את התמיכה לחלוטין\n",
    "model.export(\n",
    "    format='tfjs',\n",
    "    imgsz=640,\n",
    "    nms=True  # או: include_nms=True\n",
    ")\n"
   ]
  },
  {
   "cell_type": "code",
   "execution_count": null,
   "metadata": {},
   "outputs": [],
   "source": [
    "!pip install roboflow\n",
    "\n",
    "from roboflow import Roboflow\n",
    "rf = Roboflow(api_key=\"BQvvxKrJPoAaNkv4ZXlr\")\n",
    "project = rf.workspace(\"hh-clsza\").project(\"hh-nkpc0\")\n",
    "version = project.version(1)\n",
    "dataset = version.download(\"yolov12\")\n",
    "                "
   ]
  },
  {
   "cell_type": "code",
   "execution_count": null,
   "metadata": {},
   "outputs": [],
   "source": [
    "from ultralytics import YOLO\n",
    "\n",
    "# Load the YOLO11 model\n",
    "\n",
    "# Export the model to TF.js format\n",
    "model.export(format=\"tfjs\")  # creates '/yolo11n_web_model'\n",
    "\n",
    "# Load the exported TF.js model\n",
    "tfjs_model = YOLO(\"./yolo11n_web_model\")\n",
    "\n",
    "# Run inference\n",
    "results = tfjs_model(\"https://ultralytics.com/images/bus.jpg\")"
   ]
  },
  {
   "cell_type": "code",
   "execution_count": 1,
   "metadata": {},
   "outputs": [
    {
     "name": "stdout",
     "output_type": "stream",
     "text": [
      "Ultralytics 8.3.99 🚀 Python-3.9.6 torch-2.2.2 CPU (Intel Core(TM) i7-9750H 2.60GHz)\n",
      "YOLOv12n summary (fused): 159 layers, 2,558,873 parameters, 0 gradients, 6.3 GFLOPs\n",
      "\n",
      "\u001b[34m\u001b[1mPyTorch:\u001b[0m starting from '/Users/shachafemanoel/Documents/Hazard-Detection/public/object_detecion_model/road_damage_detection_last_version.pt' with input shape (1, 3, 640, 640) BCHW and output shape(s) (1, 300, 6) (5.3 MB)\n",
      "\n",
      "\u001b[34m\u001b[1mONNX:\u001b[0m starting export with onnx 1.16.1 opset 12...\n",
      "\u001b[34m\u001b[1mONNX:\u001b[0m slimming with onnxslim 0.1.49...\n",
      "\u001b[34m\u001b[1mONNX:\u001b[0m export success ✅ 38.0s, saved as '/Users/shachafemanoel/Documents/Hazard-Detection/public/object_detecion_model/road_damage_detection_last_version.onnx' (10.1 MB)\n",
      "\n",
      "Export complete (40.5s)\n",
      "Results saved to \u001b[1m/Users/shachafemanoel/Documents/Hazard-Detection/public/object_detecion_model\u001b[0m\n",
      "Predict:         yolo predict task=detect model=/Users/shachafemanoel/Documents/Hazard-Detection/public/object_detecion_model/road_damage_detection_last_version.onnx imgsz=640  \n",
      "Validate:        yolo val task=detect model=/Users/shachafemanoel/Documents/Hazard-Detection/public/object_detecion_model/road_damage_detection_last_version.onnx imgsz=640 data=/workspace/RDD2022-3/data.yaml  \n",
      "Visualize:       https://netron.app\n"
     ]
    },
    {
     "data": {
      "text/plain": [
       "'/Users/shachafemanoel/Documents/Hazard-Detection/public/object_detecion_model/road_damage_detection_last_version.onnx'"
      ]
     },
     "execution_count": 1,
     "metadata": {},
     "output_type": "execute_result"
    }
   ],
   "source": [
    "from ultralytics import YOLO\n",
    "\n",
    "model = YOLO(\"/Users/shachafemanoel/Documents/Hazard-Detection/public/object_detecion_model/road_damage_detection_last_version.pt\")\n",
    "model.export(format=\"onnx\", imgsz=640, half=False, dynamic=True, simplify=True, opset=12, nms=True, batch=1)\n"
   ]
  }
 ],
 "metadata": {
  "kernelspec": {
   "display_name": "Python 3",
   "language": "python",
   "name": "python3"
  },
  "language_info": {
   "codemirror_mode": {
    "name": "ipython",
    "version": 3
   },
   "file_extension": ".py",
   "mimetype": "text/x-python",
   "name": "python",
   "nbconvert_exporter": "python",
   "pygments_lexer": "ipython3",
   "version": "3.9.6"
  }
 },
 "nbformat": 4,
 "nbformat_minor": 2
}
