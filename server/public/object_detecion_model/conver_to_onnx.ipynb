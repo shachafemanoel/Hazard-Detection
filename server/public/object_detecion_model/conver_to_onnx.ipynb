{
 "cells": [
  {
   "cell_type": "code",
   "execution_count": null,
   "metadata": {},
   "outputs": [],
   "source": [
    "import sys\n",
    "\n",
    "print(\"גרסת Python שלך:\", sys.version)\n",
    "\n",
    "# בדיקה אם גרסת Python מתחת ל-3.10\n",
    "if sys.version_info < (3, 10):\n",
    "    print(\"\\n⚠️ גרסת Python שלך היא מתחת ל-3.10. כדי להתקין TensorFlow==2.19.0 (דרוש על ידי tf_keras), מומלץ לעדכן לגרסת Python 3.10 או 3.11.\")\n",
    "else:\n",
    "    print(\"\\nגרסת Python שלך מתאימה, אך עדיין יכול להיות שיש קונפליקטים נוספים בתלויות.\")\n"
   ]
  },
  {
   "cell_type": "code",
   "execution_count": null,
   "metadata": {},
   "outputs": [],
   "source": [
    "import subprocess\n",
    "import sys\n",
    "\n",
    "def upgrade_package(package_name):\n",
    "    try:\n",
    "        print(f\"מעדכן את {package_name} לגרסה האחרונה...\")\n",
    "        subprocess.check_call([sys.executable, \"-m\", \"pip\", \"install\", \"--upgrade\", package_name])\n",
    "        print(f\"{package_name} עודכן בהצלחה!\\n\")\n",
    "    except subprocess.CalledProcessError as e:\n",
    "        print(f\"ישנה בעיה בעדכון {package_name}: {e}\")\n",
    "\n",
    "# עדכון onnx2tf\n",
    "upgrade_package(\"onnx2tf\")\n",
    "\n",
    "# לדוגמה, אם תרצה לעדכן גם את ultralytics:\n",
    "# upgrade_package(\"ultralytics\")\n"
   ]
  },
  {
   "cell_type": "code",
   "execution_count": null,
   "metadata": {},
   "outputs": [],
   "source": [
    "from ultralytics import YOLO\n",
    "\n",
    "# טען את מודל ה-pt\n",
    "model = YOLO('road_damage_detection_last_version.pt')\n",
    "\n",
    "# נסה את הפרמטר nms=True (או include_nms=True), תלוי בגירסה\n",
    "# אם אתה על גירסה חדשה מאוד וזה לא עובד - ייתכן שהסירו את התמיכה לחלוטין\n",
    "model.export(\n",
    "    format='tfjs',\n",
    "    imgsz=640,\n",
    "    nms=True  # או: include_nms=True\n",
    ")\n"
   ]
  },
  {
   "cell_type": "code",
   "execution_count": null,
   "metadata": {},
   "outputs": [],
   "source": [
    "!pip install roboflow\n",
    "\n",
    "from roboflow import Roboflow\n",
    "rf = Roboflow(api_key=\"BQvvxKrJPoAaNkv4ZXlr\")\n",
    "project = rf.workspace(\"hh-clsza\").project(\"hh-nkpc0\")\n",
    "version = project.version(1)\n",
    "dataset = version.download(\"yolov12\")\n",
    "                "
   ]
  },
  {
   "cell_type": "code",
   "execution_count": null,
   "metadata": {},
   "outputs": [],
   "source": [
    "from ultralytics import YOLO\n",
    "\n",
    "# Load the YOLO11 model\n",
    "\n",
    "# Export the model to TF.js format\n",
    "model.export(format=\"tfjs\")  # creates '/yolo11n_web_model'\n",
    "\n",
    "# Load the exported TF.js model\n",
    "tfjs_model = YOLO(\"./yolo11n_web_model\")\n",
    "\n",
    "# Run inference\n",
    "results = tfjs_model(\"https://ultralytics.com/images/bus.jpg\")"
   ]
  },
  {
   "cell_type": "code",
   "execution_count": 19,
   "metadata": {},
   "outputs": [
    {
     "name": "stdout",
     "output_type": "stream",
     "text": [
      "Ultralytics 8.3.99 🚀 Python-3.9.6 torch-2.2.2 CPU (Intel Core(TM) i7-9750H 2.60GHz)\n",
      "YOLOv12n summary (fused): 159 layers, 2,558,873 parameters, 0 gradients, 6.3 GFLOPs\n",
      "\n",
      "\u001b[34m\u001b[1mPyTorch:\u001b[0m starting from '/Users/shachafemanoel/Documents/Hazard-Detection/public/object_detecion_model/road_damage_detection_last_version.pt' with input shape (1, 3, 640, 640) BCHW and output shape(s) (1, 300, 6) (5.3 MB)\n",
      "\u001b[31m\u001b[1mrequirements:\u001b[0m Ultralytics requirements ['ai-edge-litert>=1.2.0', 'onnx2tf>=1.26.3', 'protobuf>=5'] not found, attempting AutoUpdate...\n"
     ]
    },
    {
     "name": "stderr",
     "output_type": "stream",
     "text": [
      "\u001b[31mERROR: Could not find a version that satisfies the requirement ai-edge-litert>=1.2.0 (from versions: 1.0.0, 1.0.1)\u001b[0m\u001b[31m\n",
      "\u001b[0m\u001b[31mERROR: No matching distribution found for ai-edge-litert>=1.2.0\u001b[0m\u001b[31m\n",
      "\u001b[0m"
     ]
    },
    {
     "name": "stdout",
     "output_type": "stream",
     "text": [
      "Retry 1/2 failed: Command 'pip install --no-cache-dir \"ai-edge-litert>=1.2.0\" \"onnx2tf>=1.26.3\" \"protobuf>=5\" --extra-index-url https://pypi.ngc.nvidia.com' returned non-zero exit status 1.\n"
     ]
    },
    {
     "name": "stderr",
     "output_type": "stream",
     "text": [
      "\u001b[31mERROR: Could not find a version that satisfies the requirement ai-edge-litert>=1.2.0 (from versions: 1.0.0, 1.0.1)\u001b[0m\u001b[31m\n",
      "\u001b[0m"
     ]
    },
    {
     "name": "stdout",
     "output_type": "stream",
     "text": [
      "Retry 2/2 failed: Command 'pip install --no-cache-dir \"ai-edge-litert>=1.2.0\" \"onnx2tf>=1.26.3\" \"protobuf>=5\" --extra-index-url https://pypi.ngc.nvidia.com' returned non-zero exit status 1.\n",
      "\u001b[31m\u001b[1mrequirements:\u001b[0m ❌ Command 'pip install --no-cache-dir \"ai-edge-litert>=1.2.0\" \"onnx2tf>=1.26.3\" \"protobuf>=5\" --extra-index-url https://pypi.ngc.nvidia.com' returned non-zero exit status 1.\n",
      "\n",
      "\u001b[34m\u001b[1mTensorFlow SavedModel:\u001b[0m starting export with tensorflow 2.16.2...\n",
      "\n",
      "\u001b[34m\u001b[1mONNX:\u001b[0m starting export with onnx 1.16.1 opset 12...\n"
     ]
    },
    {
     "name": "stderr",
     "output_type": "stream",
     "text": [
      "\u001b[31mERROR: No matching distribution found for ai-edge-litert>=1.2.0\u001b[0m\u001b[31m\n",
      "\u001b[0m"
     ]
    },
    {
     "name": "stdout",
     "output_type": "stream",
     "text": [
      "\u001b[34m\u001b[1mONNX:\u001b[0m slimming with onnxslim 0.1.49...\n",
      "\u001b[34m\u001b[1mONNX:\u001b[0m export success ✅ 8.8s, saved as '/Users/shachafemanoel/Documents/Hazard-Detection/public/object_detecion_model/road_damage_detection_last_version.onnx' (10.3 MB)\n",
      "\u001b[34m\u001b[1mTensorFlow SavedModel:\u001b[0m collecting INT8 calibration images from 'data=/Users/shachafemanoel/Documents/Hazard-Detection/public/object_detecion_model/RDD2022-3/data.yaml'\n"
     ]
    },
    {
     "name": "stderr",
     "output_type": "stream",
     "text": [
      "Scanning /Users/shachafemanoel/Documents/Hazard-Detection/public/object_detecion_model/RDD2022-3/valid/labels... 7678 images, 2309 backgrounds, 0 corrupt: 100%|██████████| 7678/7678 [00:04<00:00, 1579.02it/s]"
     ]
    },
    {
     "name": "stdout",
     "output_type": "stream",
     "text": [
      "WARNING ⚠️ /Users/shachafemanoel/Documents/Hazard-Detection/public/object_detecion_model/RDD2022-3/valid/images/Japan_006916_jpg.rf.5ec6ac4a0402f0f061eda3729d679fb0.jpg: 1 duplicate labels removed\n"
     ]
    },
    {
     "name": "stderr",
     "output_type": "stream",
     "text": [
      "\n"
     ]
    },
    {
     "name": "stdout",
     "output_type": "stream",
     "text": [
      "New cache created: /Users/shachafemanoel/Documents/Hazard-Detection/public/object_detecion_model/RDD2022-3/valid/labels.cache\n"
     ]
    },
    {
     "ename": "",
     "evalue": "",
     "output_type": "error",
     "traceback": [
      "\u001b[1;31mThe Kernel crashed while executing code in the current cell or a previous cell. \n",
      "\u001b[1;31mPlease review the code in the cell(s) to identify a possible cause of the failure. \n",
      "\u001b[1;31mClick <a href='https://aka.ms/vscodeJupyterKernelCrash'>here</a> for more info. \n",
      "\u001b[1;31mView Jupyter <a href='command:jupyter.viewOutput'>log</a> for further details."
     ]
    }
   ],
   "source": [
    "from ultralytics import YOLO\n",
    "\n",
    "model = YOLO(\"/Users/shachafemanoel/Documents/Hazard-Detection/public/object_detecion_model/road_damage_detection_last_version.pt\")\n",
    "# שים לב: פורמט \"tflite\" ללא תווים נוספים, וספק data לקליברציה\n",
    "model.export(\n",
    "    format=\"tflite\", \n",
    "    int8=True, \n",
    "    data=\"/Users/shachafemanoel/Documents/Hazard-Detection/public/object_detecion_model/RDD2022-3/data.yaml\",\n",
    "    opset=12, \n",
    "    imgsz=640,\n",
    "    nms=True\n",
    ")\n"
   ]
  },
  {
   "cell_type": "code",
   "execution_count": 18,
   "metadata": {},
   "outputs": [
    {
     "name": "stdout",
     "output_type": "stream",
     "text": [
      "Defaulting to user installation because normal site-packages is not writeable\n",
      "Requirement already satisfied: roboflow in /Users/shachafemanoel/Library/Python/3.9/lib/python/site-packages (1.1.56)\n",
      "Requirement already satisfied: certifi in /Users/shachafemanoel/Library/Python/3.9/lib/python/site-packages (from roboflow) (2024.12.14)\n",
      "Requirement already satisfied: idna==3.7 in /Users/shachafemanoel/Library/Python/3.9/lib/python/site-packages (from roboflow) (3.7)\n",
      "Requirement already satisfied: cycler in /Users/shachafemanoel/Library/Python/3.9/lib/python/site-packages (from roboflow) (0.12.1)\n",
      "Requirement already satisfied: kiwisolver>=1.3.1 in /Users/shachafemanoel/Library/Python/3.9/lib/python/site-packages (from roboflow) (1.4.7)\n",
      "Requirement already satisfied: matplotlib in /Users/shachafemanoel/Library/Python/3.9/lib/python/site-packages (from roboflow) (3.9.4)\n",
      "Requirement already satisfied: numpy>=1.18.5 in /Users/shachafemanoel/Library/Python/3.9/lib/python/site-packages (from roboflow) (1.26.4)\n",
      "Requirement already satisfied: opencv-python-headless==4.10.0.84 in /Users/shachafemanoel/Library/Python/3.9/lib/python/site-packages (from roboflow) (4.10.0.84)\n",
      "Requirement already satisfied: Pillow>=7.1.2 in /Users/shachafemanoel/Library/Python/3.9/lib/python/site-packages (from roboflow) (10.2.0)\n",
      "Requirement already satisfied: python-dateutil in /Users/shachafemanoel/Library/Python/3.9/lib/python/site-packages (from roboflow) (2.9.0.post0)\n",
      "Requirement already satisfied: python-dotenv in /Users/shachafemanoel/Library/Python/3.9/lib/python/site-packages (from roboflow) (1.0.0)\n",
      "Requirement already satisfied: requests in /Users/shachafemanoel/Library/Python/3.9/lib/python/site-packages (from roboflow) (2.32.3)\n",
      "Requirement already satisfied: six in /Users/shachafemanoel/Library/Python/3.9/lib/python/site-packages (from roboflow) (1.17.0)\n",
      "Requirement already satisfied: urllib3>=1.26.6 in /Users/shachafemanoel/Library/Python/3.9/lib/python/site-packages (from roboflow) (1.26.15)\n",
      "Requirement already satisfied: tqdm>=4.41.0 in /Users/shachafemanoel/Library/Python/3.9/lib/python/site-packages (from roboflow) (4.67.1)\n",
      "Requirement already satisfied: PyYAML>=5.3.1 in /Users/shachafemanoel/Library/Python/3.9/lib/python/site-packages (from roboflow) (6.0.2)\n",
      "Requirement already satisfied: requests-toolbelt in /Users/shachafemanoel/Library/Python/3.9/lib/python/site-packages (from roboflow) (0.10.1)\n",
      "Requirement already satisfied: filetype in /Users/shachafemanoel/Library/Python/3.9/lib/python/site-packages (from roboflow) (1.2.0)\n",
      "Requirement already satisfied: contourpy>=1.0.1 in /Users/shachafemanoel/Library/Python/3.9/lib/python/site-packages (from matplotlib->roboflow) (1.3.0)\n",
      "Requirement already satisfied: fonttools>=4.22.0 in /Users/shachafemanoel/Library/Python/3.9/lib/python/site-packages (from matplotlib->roboflow) (4.55.6)\n",
      "Requirement already satisfied: packaging>=20.0 in /Users/shachafemanoel/Library/Python/3.9/lib/python/site-packages (from matplotlib->roboflow) (23.2)\n",
      "Requirement already satisfied: pyparsing>=2.3.1 in /Users/shachafemanoel/Library/Python/3.9/lib/python/site-packages (from matplotlib->roboflow) (3.2.1)\n",
      "Requirement already satisfied: importlib-resources>=3.2.0 in /Users/shachafemanoel/Library/Python/3.9/lib/python/site-packages (from matplotlib->roboflow) (6.5.2)\n",
      "Requirement already satisfied: charset-normalizer<4,>=2 in /Users/shachafemanoel/Library/Python/3.9/lib/python/site-packages (from requests->roboflow) (3.4.1)\n",
      "Requirement already satisfied: zipp>=3.1.0 in /Users/shachafemanoel/Library/Python/3.9/lib/python/site-packages (from importlib-resources>=3.2.0->matplotlib->roboflow) (3.21.0)\n",
      "loading Roboflow workspace...\n",
      "loading Roboflow project...\n"
     ]
    },
    {
     "name": "stderr",
     "output_type": "stream",
     "text": [
      "Downloading Dataset Version Zip in RDD2022-3 to yolov12:: 100%|██████████| 5252056/5252056 [03:40<00:00, 23831.39it/s]"
     ]
    },
    {
     "name": "stdout",
     "output_type": "stream",
     "text": [
      "\n"
     ]
    },
    {
     "name": "stderr",
     "output_type": "stream",
     "text": [
      "\n",
      "Extracting Dataset Version Zip to RDD2022-3 in yolov12:: 100%|██████████| 184252/184252 [01:29<00:00, 2066.40it/s]\n"
     ]
    }
   ],
   "source": [
    "!pip install roboflow\n",
    "\n",
    "from roboflow import Roboflow\n",
    "\n",
    "rf = Roboflow(api_key=\"BQvvxKrJPoAaNkv4ZXlr\")\n",
    "project = rf.workspace(\"devflo\").project(\"rdd2022-ook7x\")\n",
    "version = project.version(3)\n",
    "dataset = version.download(\"yolov12\")\n"
   ]
  },
  {
   "cell_type": "code",
   "execution_count": null,
   "metadata": {},
   "outputs": [],
   "source": [
    "import tensorflow as tf\n",
    "\n",
    "# הגדר את הנתיב לספריית המודל ששמור כ-SavedModel\n",
    "saved_model_dir = \"/Users/shachafemanoel/Documents/Hazard-Detection/public/object_detecion_model/road_damage_detection_last_version_saved_model\"  # שנה לנתיב המתאים\n",
    "\n",
    "# יצירת converter מ-SavedModel\n",
    "converter = tf.lite.TFLiteConverter.from_saved_model(saved_model_dir)\n",
    "\n",
    "# אפשרות: להפעיל אופטימיזציות (למשל, למקסם ביצועים או להקטין גודל קובץ)\n",
    "converter.optimizations = [tf.lite.Optimize.DEFAULT]\n",
    "\n",
    "# המרת המודל ל־TFLite\n",
    "tflite_model = converter.convert()\n",
    "\n",
    "# כתיבת קובץ TFLite\n",
    "with open(\"model.tflite\", \"wb\") as f:\n",
    "    f.write(tflite_model)\n",
    "\n",
    "print(\"Conversion to TFLite complete! The model is saved as model.tflite\")\n"
   ]
  },
  {
   "cell_type": "code",
   "execution_count": 2,
   "metadata": {},
   "outputs": [
    {
     "ename": "FileNotFoundError",
     "evalue": "[Errno 2] No such file or directory: 'Users/shachafemanoel/Desktop/custom_model.tflite'",
     "output_type": "error",
     "traceback": [
      "\u001b[0;31m---------------------------------------------------------------------------\u001b[0m",
      "\u001b[0;31mFileNotFoundError\u001b[0m                         Traceback (most recent call last)",
      "Cell \u001b[0;32mIn[2], line 11\u001b[0m\n\u001b[1;32m      7\u001b[0m EXPORT_DIR \u001b[38;5;241m=\u001b[39m \u001b[38;5;124m\"\u001b[39m\u001b[38;5;124mUsers/shachafemanoel/Desktop\u001b[39m\u001b[38;5;124m\"\u001b[39m  \u001b[38;5;66;03m# איפה לשמור את הקובץ החדש\u001b[39;00m\n\u001b[1;32m      9\u001b[0m \u001b[38;5;66;03m# צור את ה-Metadata Writer עם נורמליזציה ו-labels\u001b[39;00m\n\u001b[1;32m     10\u001b[0m writer \u001b[38;5;241m=\u001b[39m object_detector\u001b[38;5;241m.\u001b[39mMetadataWriter\u001b[38;5;241m.\u001b[39mcreate_for_inference(\n\u001b[0;32m---> 11\u001b[0m     model_buffer\u001b[38;5;241m=\u001b[39m\u001b[38;5;28;43mopen\u001b[39;49m\u001b[43m(\u001b[49m\u001b[43mMODEL_PATH\u001b[49m\u001b[43m,\u001b[49m\u001b[43m \u001b[49m\u001b[38;5;124;43m\"\u001b[39;49m\u001b[38;5;124;43mrb\u001b[39;49m\u001b[38;5;124;43m\"\u001b[39;49m\u001b[43m)\u001b[49m\u001b[38;5;241m.\u001b[39mread(),\n\u001b[1;32m     12\u001b[0m     input_norm_mean\u001b[38;5;241m=\u001b[39m[\u001b[38;5;241m127.5\u001b[39m],\n\u001b[1;32m     13\u001b[0m     input_norm_std\u001b[38;5;241m=\u001b[39m[\u001b[38;5;241m127.5\u001b[39m],\n\u001b[1;32m     14\u001b[0m     label_file_paths\u001b[38;5;241m=\u001b[39m[LABEL_FILE]\n\u001b[1;32m     15\u001b[0m )\n\u001b[1;32m     17\u001b[0m \u001b[38;5;66;03m# תוסיף את ה-Metadata\u001b[39;00m\n\u001b[1;32m     18\u001b[0m model_with_metadata \u001b[38;5;241m=\u001b[39m writer\u001b[38;5;241m.\u001b[39mpopulate()\n",
      "File \u001b[0;32m~/Library/Python/3.9/lib/python/site-packages/IPython/core/interactiveshell.py:310\u001b[0m, in \u001b[0;36m_modified_open\u001b[0;34m(file, *args, **kwargs)\u001b[0m\n\u001b[1;32m    303\u001b[0m \u001b[38;5;28;01mif\u001b[39;00m file \u001b[38;5;129;01min\u001b[39;00m {\u001b[38;5;241m0\u001b[39m, \u001b[38;5;241m1\u001b[39m, \u001b[38;5;241m2\u001b[39m}:\n\u001b[1;32m    304\u001b[0m     \u001b[38;5;28;01mraise\u001b[39;00m \u001b[38;5;167;01mValueError\u001b[39;00m(\n\u001b[1;32m    305\u001b[0m         \u001b[38;5;124mf\u001b[39m\u001b[38;5;124m\"\u001b[39m\u001b[38;5;124mIPython won\u001b[39m\u001b[38;5;124m'\u001b[39m\u001b[38;5;124mt let you open fd=\u001b[39m\u001b[38;5;132;01m{\u001b[39;00mfile\u001b[38;5;132;01m}\u001b[39;00m\u001b[38;5;124m by default \u001b[39m\u001b[38;5;124m\"\u001b[39m\n\u001b[1;32m    306\u001b[0m         \u001b[38;5;124m\"\u001b[39m\u001b[38;5;124mas it is likely to crash IPython. If you know what you are doing, \u001b[39m\u001b[38;5;124m\"\u001b[39m\n\u001b[1;32m    307\u001b[0m         \u001b[38;5;124m\"\u001b[39m\u001b[38;5;124myou can use builtins\u001b[39m\u001b[38;5;124m'\u001b[39m\u001b[38;5;124m open.\u001b[39m\u001b[38;5;124m\"\u001b[39m\n\u001b[1;32m    308\u001b[0m     )\n\u001b[0;32m--> 310\u001b[0m \u001b[38;5;28;01mreturn\u001b[39;00m \u001b[43mio_open\u001b[49m\u001b[43m(\u001b[49m\u001b[43mfile\u001b[49m\u001b[43m,\u001b[49m\u001b[43m \u001b[49m\u001b[38;5;241;43m*\u001b[39;49m\u001b[43margs\u001b[49m\u001b[43m,\u001b[49m\u001b[43m \u001b[49m\u001b[38;5;241;43m*\u001b[39;49m\u001b[38;5;241;43m*\u001b[39;49m\u001b[43mkwargs\u001b[49m\u001b[43m)\u001b[49m\n",
      "\u001b[0;31mFileNotFoundError\u001b[0m: [Errno 2] No such file or directory: 'Users/shachafemanoel/Desktop/custom_model.tflite'"
     ]
    }
   ],
   "source": [
    "from tflite_support.metadata_writers import object_detector\n",
    "from tflite_support.metadata_writers import writer_utils\n",
    "\n",
    "# נתיבי הקבצים\n",
    "MODEL_PATH = \"Users/shachafemanoel/Desktop/custom_model.tflite\"\n",
    "LABEL_FILE = \"Users/shachafemanoel/Desktop/labels.txt\"\n",
    "EXPORT_DIR = \"Users/shachafemanoel/Desktop\"  # איפה לשמור את הקובץ החדש\n",
    "\n",
    "# צור את ה-Metadata Writer עם נורמליזציה ו-labels\n",
    "writer = object_detector.MetadataWriter.create_for_inference(\n",
    "    model_buffer=open(MODEL_PATH, \"rb\").read(),\n",
    "    input_norm_mean=[127.5],\n",
    "    input_norm_std=[127.5],\n",
    "    label_file_paths=[LABEL_FILE]\n",
    ")\n",
    "\n",
    "# תוסיף את ה-Metadata\n",
    "model_with_metadata = writer.populate()\n",
    "\n",
    "# שמור את הקובץ החדש\n",
    "writer_utils.save_file(model_with_metadata, f\"{EXPORT_DIR}/custom_model_with_metadata.tflite\")\n",
    "\n",
    "print(\"✅ Metadata נוסף בהצלחה! המודל החדש נשמר ל-Desktop.\")\n"
   ]
  },
  {
   "cell_type": "code",
   "execution_count": 4,
   "metadata": {},
   "outputs": [
    {
     "name": "stdout",
     "output_type": "stream",
     "text": [
      "Defaulting to user installation because normal site-packages is not writeable\n",
      "Requirement already satisfied: ultralytics in /Users/shachafemanoel/Library/Python/3.9/lib/python/site-packages (8.0.109)\n",
      "Requirement already satisfied: matplotlib>=3.2.2 in /Users/shachafemanoel/Library/Python/3.9/lib/python/site-packages (from ultralytics) (3.9.4)\n",
      "Requirement already satisfied: opencv-python>=4.6.0 in /Users/shachafemanoel/Library/Python/3.9/lib/python/site-packages (from ultralytics) (4.11.0.86)\n",
      "Requirement already satisfied: Pillow>=7.1.2 in /Users/shachafemanoel/Library/Python/3.9/lib/python/site-packages (from ultralytics) (11.2.1)\n",
      "Requirement already satisfied: PyYAML>=5.3.1 in /Users/shachafemanoel/Library/Python/3.9/lib/python/site-packages (from ultralytics) (6.0.2)\n",
      "Requirement already satisfied: requests>=2.23.0 in /Users/shachafemanoel/Library/Python/3.9/lib/python/site-packages (from ultralytics) (2.32.3)\n",
      "Requirement already satisfied: scipy>=1.4.1 in /Users/shachafemanoel/Library/Python/3.9/lib/python/site-packages (from ultralytics) (1.13.1)\n",
      "Requirement already satisfied: torch>=1.7.0 in /Users/shachafemanoel/Library/Python/3.9/lib/python/site-packages (from ultralytics) (2.2.2)\n",
      "Requirement already satisfied: torchvision>=0.8.1 in /Users/shachafemanoel/Library/Python/3.9/lib/python/site-packages (from ultralytics) (0.17.2)\n",
      "Requirement already satisfied: tqdm>=4.64.0 in /Users/shachafemanoel/Library/Python/3.9/lib/python/site-packages (from ultralytics) (4.67.1)\n",
      "Requirement already satisfied: pandas>=1.1.4 in /Users/shachafemanoel/Library/Python/3.9/lib/python/site-packages (from ultralytics) (2.3.0)\n",
      "Requirement already satisfied: seaborn>=0.11.0 in /Users/shachafemanoel/Library/Python/3.9/lib/python/site-packages (from ultralytics) (0.13.2)\n",
      "Requirement already satisfied: psutil in /Users/shachafemanoel/Library/Python/3.9/lib/python/site-packages (from ultralytics) (5.9.8)\n",
      "Requirement already satisfied: sentry-sdk in /Users/shachafemanoel/Library/Python/3.9/lib/python/site-packages (from ultralytics) (2.29.1)\n",
      "Requirement already satisfied: contourpy>=1.0.1 in /Users/shachafemanoel/Library/Python/3.9/lib/python/site-packages (from matplotlib>=3.2.2->ultralytics) (1.3.0)\n",
      "Requirement already satisfied: cycler>=0.10 in /Users/shachafemanoel/Library/Python/3.9/lib/python/site-packages (from matplotlib>=3.2.2->ultralytics) (0.12.1)\n",
      "Requirement already satisfied: fonttools>=4.22.0 in /Users/shachafemanoel/Library/Python/3.9/lib/python/site-packages (from matplotlib>=3.2.2->ultralytics) (4.55.6)\n",
      "Requirement already satisfied: kiwisolver>=1.3.1 in /Users/shachafemanoel/Library/Python/3.9/lib/python/site-packages (from matplotlib>=3.2.2->ultralytics) (1.4.7)\n",
      "Requirement already satisfied: numpy>=1.23 in /Users/shachafemanoel/Library/Python/3.9/lib/python/site-packages (from matplotlib>=3.2.2->ultralytics) (2.0.2)\n",
      "Requirement already satisfied: packaging>=20.0 in /Users/shachafemanoel/Library/Python/3.9/lib/python/site-packages (from matplotlib>=3.2.2->ultralytics) (23.2)\n",
      "Requirement already satisfied: pyparsing>=2.3.1 in /Users/shachafemanoel/Library/Python/3.9/lib/python/site-packages (from matplotlib>=3.2.2->ultralytics) (3.2.1)\n",
      "Requirement already satisfied: python-dateutil>=2.7 in /Users/shachafemanoel/Library/Python/3.9/lib/python/site-packages (from matplotlib>=3.2.2->ultralytics) (2.9.0.post0)\n",
      "Requirement already satisfied: importlib-resources>=3.2.0 in /Users/shachafemanoel/Library/Python/3.9/lib/python/site-packages (from matplotlib>=3.2.2->ultralytics) (6.5.2)\n",
      "Requirement already satisfied: pytz>=2020.1 in /Users/shachafemanoel/Library/Python/3.9/lib/python/site-packages (from pandas>=1.1.4->ultralytics) (2024.2)\n",
      "Requirement already satisfied: tzdata>=2022.7 in /Users/shachafemanoel/Library/Python/3.9/lib/python/site-packages (from pandas>=1.1.4->ultralytics) (2025.1)\n",
      "Requirement already satisfied: charset-normalizer<4,>=2 in /Users/shachafemanoel/Library/Python/3.9/lib/python/site-packages (from requests>=2.23.0->ultralytics) (3.4.1)\n",
      "Requirement already satisfied: idna<4,>=2.5 in /Users/shachafemanoel/Library/Python/3.9/lib/python/site-packages (from requests>=2.23.0->ultralytics) (3.7)\n",
      "Requirement already satisfied: urllib3<3,>=1.21.1 in /Users/shachafemanoel/Library/Python/3.9/lib/python/site-packages (from requests>=2.23.0->ultralytics) (1.26.15)\n",
      "Requirement already satisfied: certifi>=2017.4.17 in /Users/shachafemanoel/Library/Python/3.9/lib/python/site-packages (from requests>=2.23.0->ultralytics) (2024.12.14)\n",
      "Requirement already satisfied: filelock in /Users/shachafemanoel/Library/Python/3.9/lib/python/site-packages (from torch>=1.7.0->ultralytics) (3.17.0)\n",
      "Requirement already satisfied: typing-extensions>=4.8.0 in /Users/shachafemanoel/Library/Python/3.9/lib/python/site-packages (from torch>=1.7.0->ultralytics) (4.12.2)\n",
      "Requirement already satisfied: sympy in /Users/shachafemanoel/Library/Python/3.9/lib/python/site-packages (from torch>=1.7.0->ultralytics) (1.13.3)\n",
      "Requirement already satisfied: networkx in /Users/shachafemanoel/Library/Python/3.9/lib/python/site-packages (from torch>=1.7.0->ultralytics) (3.2.1)\n",
      "Requirement already satisfied: jinja2 in /Users/shachafemanoel/Library/Python/3.9/lib/python/site-packages (from torch>=1.7.0->ultralytics) (3.1.5)\n",
      "Requirement already satisfied: fsspec in /Users/shachafemanoel/Library/Python/3.9/lib/python/site-packages (from torch>=1.7.0->ultralytics) (2025.3.0)\n",
      "Requirement already satisfied: zipp>=3.1.0 in /Users/shachafemanoel/Library/Python/3.9/lib/python/site-packages (from importlib-resources>=3.2.0->matplotlib>=3.2.2->ultralytics) (3.21.0)\n",
      "Requirement already satisfied: six>=1.5 in /Users/shachafemanoel/Library/Python/3.9/lib/python/site-packages (from python-dateutil>=2.7->matplotlib>=3.2.2->ultralytics) (1.17.0)\n",
      "Requirement already satisfied: MarkupSafe>=2.0 in /Users/shachafemanoel/Library/Python/3.9/lib/python/site-packages (from jinja2->torch>=1.7.0->ultralytics) (2.1.5)\n",
      "Requirement already satisfied: mpmath<1.4,>=1.1.0 in /Users/shachafemanoel/Library/Python/3.9/lib/python/site-packages (from sympy->torch>=1.7.0->ultralytics) (1.3.0)\n",
      "\n",
      "\u001b[1m[\u001b[0m\u001b[34;49mnotice\u001b[0m\u001b[1;39;49m]\u001b[0m\u001b[39;49m A new release of pip is available: \u001b[0m\u001b[31;49m25.0.1\u001b[0m\u001b[39;49m -> \u001b[0m\u001b[32;49m25.1.1\u001b[0m\n",
      "\u001b[1m[\u001b[0m\u001b[34;49mnotice\u001b[0m\u001b[1;39;49m]\u001b[0m\u001b[39;49m To update, run: \u001b[0m\u001b[32;49m/Library/Developer/CommandLineTools/usr/bin/python3 -m pip install --upgrade pip\u001b[0m\n"
     ]
    },
    {
     "ename": "AttributeError",
     "evalue": "Can't get attribute 'C3k2' on <module 'ultralytics.nn.modules.block' from '/Users/shachafemanoel/Library/Python/3.9/lib/python/site-packages/ultralytics/nn/modules/block.py'>",
     "output_type": "error",
     "traceback": [
      "\u001b[0;31m---------------------------------------------------------------------------\u001b[0m",
      "\u001b[0;31mAttributeError\u001b[0m                            Traceback (most recent call last)",
      "Cell \u001b[0;32mIn[4], line 7\u001b[0m\n\u001b[1;32m      4\u001b[0m \u001b[38;5;28;01mfrom\u001b[39;00m\u001b[38;5;250m \u001b[39m\u001b[38;5;21;01multralytics\u001b[39;00m\u001b[38;5;250m \u001b[39m\u001b[38;5;28;01mimport\u001b[39;00m YOLO\n\u001b[1;32m      6\u001b[0m \u001b[38;5;66;03m# Load a model\u001b[39;00m\n\u001b[0;32m----> 7\u001b[0m model \u001b[38;5;241m=\u001b[39m \u001b[43mYOLO\u001b[49m\u001b[43m(\u001b[49m\u001b[38;5;124;43m\"\u001b[39;49m\u001b[38;5;124;43m/Users/shachafemanoel/Documents/Hazard-Detection/server/best.pt\u001b[39;49m\u001b[38;5;124;43m\"\u001b[39;49m\u001b[43m)\u001b[49m  \u001b[38;5;66;03m# load a custom trained model\u001b[39;00m\n\u001b[1;32m      9\u001b[0m \u001b[38;5;66;03m# Export the model\u001b[39;00m\n\u001b[1;32m     10\u001b[0m model\u001b[38;5;241m.\u001b[39mexport(\u001b[38;5;28mformat\u001b[39m\u001b[38;5;241m=\u001b[39m\u001b[38;5;124m\"\u001b[39m\u001b[38;5;124monnx\u001b[39m\u001b[38;5;124m\"\u001b[39m, dynamic\u001b[38;5;241m=\u001b[39m\u001b[38;5;28;01mTrue\u001b[39;00m,nms\u001b[38;5;241m=\u001b[39m\u001b[38;5;28;01mTrue\u001b[39;00m)  \u001b[38;5;66;03m# or include_nms=True\u001b[39;00m\n",
      "File \u001b[0;32m~/Library/Python/3.9/lib/python/site-packages/ultralytics/yolo/engine/model.py:107\u001b[0m, in \u001b[0;36mYOLO.__init__\u001b[0;34m(self, model, task)\u001b[0m\n\u001b[1;32m    105\u001b[0m     \u001b[38;5;28mself\u001b[39m\u001b[38;5;241m.\u001b[39m_new(model, task)\n\u001b[1;32m    106\u001b[0m \u001b[38;5;28;01melse\u001b[39;00m:\n\u001b[0;32m--> 107\u001b[0m     \u001b[38;5;28;43mself\u001b[39;49m\u001b[38;5;241;43m.\u001b[39;49m\u001b[43m_load\u001b[49m\u001b[43m(\u001b[49m\u001b[43mmodel\u001b[49m\u001b[43m,\u001b[49m\u001b[43m \u001b[49m\u001b[43mtask\u001b[49m\u001b[43m)\u001b[49m\n",
      "File \u001b[0;32m~/Library/Python/3.9/lib/python/site-packages/ultralytics/yolo/engine/model.py:156\u001b[0m, in \u001b[0;36mYOLO._load\u001b[0;34m(self, weights, task)\u001b[0m\n\u001b[1;32m    154\u001b[0m suffix \u001b[38;5;241m=\u001b[39m Path(weights)\u001b[38;5;241m.\u001b[39msuffix\n\u001b[1;32m    155\u001b[0m \u001b[38;5;28;01mif\u001b[39;00m suffix \u001b[38;5;241m==\u001b[39m \u001b[38;5;124m'\u001b[39m\u001b[38;5;124m.pt\u001b[39m\u001b[38;5;124m'\u001b[39m:\n\u001b[0;32m--> 156\u001b[0m     \u001b[38;5;28mself\u001b[39m\u001b[38;5;241m.\u001b[39mmodel, \u001b[38;5;28mself\u001b[39m\u001b[38;5;241m.\u001b[39mckpt \u001b[38;5;241m=\u001b[39m \u001b[43mattempt_load_one_weight\u001b[49m\u001b[43m(\u001b[49m\u001b[43mweights\u001b[49m\u001b[43m)\u001b[49m\n\u001b[1;32m    157\u001b[0m     \u001b[38;5;28mself\u001b[39m\u001b[38;5;241m.\u001b[39mtask \u001b[38;5;241m=\u001b[39m \u001b[38;5;28mself\u001b[39m\u001b[38;5;241m.\u001b[39mmodel\u001b[38;5;241m.\u001b[39margs[\u001b[38;5;124m'\u001b[39m\u001b[38;5;124mtask\u001b[39m\u001b[38;5;124m'\u001b[39m]\n\u001b[1;32m    158\u001b[0m     \u001b[38;5;28mself\u001b[39m\u001b[38;5;241m.\u001b[39moverrides \u001b[38;5;241m=\u001b[39m \u001b[38;5;28mself\u001b[39m\u001b[38;5;241m.\u001b[39mmodel\u001b[38;5;241m.\u001b[39margs \u001b[38;5;241m=\u001b[39m \u001b[38;5;28mself\u001b[39m\u001b[38;5;241m.\u001b[39m_reset_ckpt_args(\u001b[38;5;28mself\u001b[39m\u001b[38;5;241m.\u001b[39mmodel\u001b[38;5;241m.\u001b[39margs)\n",
      "File \u001b[0;32m~/Library/Python/3.9/lib/python/site-packages/ultralytics/nn/tasks.py:441\u001b[0m, in \u001b[0;36mattempt_load_one_weight\u001b[0;34m(weight, device, inplace, fuse)\u001b[0m\n\u001b[1;32m    439\u001b[0m \u001b[38;5;28;01mdef\u001b[39;00m\u001b[38;5;250m \u001b[39m\u001b[38;5;21mattempt_load_one_weight\u001b[39m(weight, device\u001b[38;5;241m=\u001b[39m\u001b[38;5;28;01mNone\u001b[39;00m, inplace\u001b[38;5;241m=\u001b[39m\u001b[38;5;28;01mTrue\u001b[39;00m, fuse\u001b[38;5;241m=\u001b[39m\u001b[38;5;28;01mFalse\u001b[39;00m):\n\u001b[1;32m    440\u001b[0m \u001b[38;5;250m    \u001b[39m\u001b[38;5;124;03m\"\"\"Loads a single model weights.\"\"\"\u001b[39;00m\n\u001b[0;32m--> 441\u001b[0m     ckpt, weight \u001b[38;5;241m=\u001b[39m \u001b[43mtorch_safe_load\u001b[49m\u001b[43m(\u001b[49m\u001b[43mweight\u001b[49m\u001b[43m)\u001b[49m  \u001b[38;5;66;03m# load ckpt\u001b[39;00m\n\u001b[1;32m    442\u001b[0m     args \u001b[38;5;241m=\u001b[39m {\u001b[38;5;241m*\u001b[39m\u001b[38;5;241m*\u001b[39mDEFAULT_CFG_DICT, \u001b[38;5;241m*\u001b[39m\u001b[38;5;241m*\u001b[39m(ckpt\u001b[38;5;241m.\u001b[39mget(\u001b[38;5;124m'\u001b[39m\u001b[38;5;124mtrain_args\u001b[39m\u001b[38;5;124m'\u001b[39m, {}))}  \u001b[38;5;66;03m# combine model and default args, preferring model args\u001b[39;00m\n\u001b[1;32m    443\u001b[0m     model \u001b[38;5;241m=\u001b[39m (ckpt\u001b[38;5;241m.\u001b[39mget(\u001b[38;5;124m'\u001b[39m\u001b[38;5;124mema\u001b[39m\u001b[38;5;124m'\u001b[39m) \u001b[38;5;129;01mor\u001b[39;00m ckpt[\u001b[38;5;124m'\u001b[39m\u001b[38;5;124mmodel\u001b[39m\u001b[38;5;124m'\u001b[39m])\u001b[38;5;241m.\u001b[39mto(device)\u001b[38;5;241m.\u001b[39mfloat()  \u001b[38;5;66;03m# FP32 model\u001b[39;00m\n",
      "File \u001b[0;32m~/Library/Python/3.9/lib/python/site-packages/ultralytics/nn/tasks.py:381\u001b[0m, in \u001b[0;36mtorch_safe_load\u001b[0;34m(weight)\u001b[0m\n\u001b[1;32m    379\u001b[0m file \u001b[38;5;241m=\u001b[39m attempt_download_asset(weight)  \u001b[38;5;66;03m# search online if missing locally\u001b[39;00m\n\u001b[1;32m    380\u001b[0m \u001b[38;5;28;01mtry\u001b[39;00m:\n\u001b[0;32m--> 381\u001b[0m     \u001b[38;5;28;01mreturn\u001b[39;00m \u001b[43mtorch\u001b[49m\u001b[38;5;241;43m.\u001b[39;49m\u001b[43mload\u001b[49m\u001b[43m(\u001b[49m\u001b[43mfile\u001b[49m\u001b[43m,\u001b[49m\u001b[43m \u001b[49m\u001b[43mmap_location\u001b[49m\u001b[38;5;241;43m=\u001b[39;49m\u001b[38;5;124;43m'\u001b[39;49m\u001b[38;5;124;43mcpu\u001b[39;49m\u001b[38;5;124;43m'\u001b[39;49m\u001b[43m)\u001b[49m, file  \u001b[38;5;66;03m# load\u001b[39;00m\n\u001b[1;32m    382\u001b[0m \u001b[38;5;28;01mexcept\u001b[39;00m \u001b[38;5;167;01mModuleNotFoundError\u001b[39;00m \u001b[38;5;28;01mas\u001b[39;00m e:  \u001b[38;5;66;03m# e.name is missing module name\u001b[39;00m\n\u001b[1;32m    383\u001b[0m     \u001b[38;5;28;01mif\u001b[39;00m e\u001b[38;5;241m.\u001b[39mname \u001b[38;5;241m==\u001b[39m \u001b[38;5;124m'\u001b[39m\u001b[38;5;124mmodels\u001b[39m\u001b[38;5;124m'\u001b[39m:\n",
      "File \u001b[0;32m~/Library/Python/3.9/lib/python/site-packages/torch/serialization.py:1026\u001b[0m, in \u001b[0;36mload\u001b[0;34m(f, map_location, pickle_module, weights_only, mmap, **pickle_load_args)\u001b[0m\n\u001b[1;32m   1024\u001b[0m             \u001b[38;5;28;01mexcept\u001b[39;00m \u001b[38;5;167;01mRuntimeError\u001b[39;00m \u001b[38;5;28;01mas\u001b[39;00m e:\n\u001b[1;32m   1025\u001b[0m                 \u001b[38;5;28;01mraise\u001b[39;00m pickle\u001b[38;5;241m.\u001b[39mUnpicklingError(UNSAFE_MESSAGE \u001b[38;5;241m+\u001b[39m \u001b[38;5;28mstr\u001b[39m(e)) \u001b[38;5;28;01mfrom\u001b[39;00m\u001b[38;5;250m \u001b[39m\u001b[38;5;28;01mNone\u001b[39;00m\n\u001b[0;32m-> 1026\u001b[0m         \u001b[38;5;28;01mreturn\u001b[39;00m \u001b[43m_load\u001b[49m\u001b[43m(\u001b[49m\u001b[43mopened_zipfile\u001b[49m\u001b[43m,\u001b[49m\n\u001b[1;32m   1027\u001b[0m \u001b[43m                     \u001b[49m\u001b[43mmap_location\u001b[49m\u001b[43m,\u001b[49m\n\u001b[1;32m   1028\u001b[0m \u001b[43m                     \u001b[49m\u001b[43mpickle_module\u001b[49m\u001b[43m,\u001b[49m\n\u001b[1;32m   1029\u001b[0m \u001b[43m                     \u001b[49m\u001b[43moverall_storage\u001b[49m\u001b[38;5;241;43m=\u001b[39;49m\u001b[43moverall_storage\u001b[49m\u001b[43m,\u001b[49m\n\u001b[1;32m   1030\u001b[0m \u001b[43m                     \u001b[49m\u001b[38;5;241;43m*\u001b[39;49m\u001b[38;5;241;43m*\u001b[39;49m\u001b[43mpickle_load_args\u001b[49m\u001b[43m)\u001b[49m\n\u001b[1;32m   1031\u001b[0m \u001b[38;5;28;01mif\u001b[39;00m mmap:\n\u001b[1;32m   1032\u001b[0m     \u001b[38;5;28;01mraise\u001b[39;00m \u001b[38;5;167;01mRuntimeError\u001b[39;00m(\u001b[38;5;124m\"\u001b[39m\u001b[38;5;124mmmap can only be used with files saved with \u001b[39m\u001b[38;5;124m\"\u001b[39m\n\u001b[1;32m   1033\u001b[0m                        \u001b[38;5;124m\"\u001b[39m\u001b[38;5;124m`torch.save(_use_new_zipfile_serialization=True), \u001b[39m\u001b[38;5;124m\"\u001b[39m\n\u001b[1;32m   1034\u001b[0m                        \u001b[38;5;124m\"\u001b[39m\u001b[38;5;124mplease torch.save your checkpoint with this option in order to use mmap.\u001b[39m\u001b[38;5;124m\"\u001b[39m)\n",
      "File \u001b[0;32m~/Library/Python/3.9/lib/python/site-packages/torch/serialization.py:1438\u001b[0m, in \u001b[0;36m_load\u001b[0;34m(zip_file, map_location, pickle_module, pickle_file, overall_storage, **pickle_load_args)\u001b[0m\n\u001b[1;32m   1436\u001b[0m unpickler \u001b[38;5;241m=\u001b[39m UnpicklerWrapper(data_file, \u001b[38;5;241m*\u001b[39m\u001b[38;5;241m*\u001b[39mpickle_load_args)\n\u001b[1;32m   1437\u001b[0m unpickler\u001b[38;5;241m.\u001b[39mpersistent_load \u001b[38;5;241m=\u001b[39m persistent_load\n\u001b[0;32m-> 1438\u001b[0m result \u001b[38;5;241m=\u001b[39m \u001b[43munpickler\u001b[49m\u001b[38;5;241;43m.\u001b[39;49m\u001b[43mload\u001b[49m\u001b[43m(\u001b[49m\u001b[43m)\u001b[49m\n\u001b[1;32m   1440\u001b[0m torch\u001b[38;5;241m.\u001b[39m_utils\u001b[38;5;241m.\u001b[39m_validate_loaded_sparse_tensors()\n\u001b[1;32m   1441\u001b[0m torch\u001b[38;5;241m.\u001b[39m_C\u001b[38;5;241m.\u001b[39m_log_api_usage_metadata(\n\u001b[1;32m   1442\u001b[0m     \u001b[38;5;124m\"\u001b[39m\u001b[38;5;124mtorch.load.metadata\u001b[39m\u001b[38;5;124m\"\u001b[39m, {\u001b[38;5;124m\"\u001b[39m\u001b[38;5;124mserialization_id\u001b[39m\u001b[38;5;124m\"\u001b[39m: zip_file\u001b[38;5;241m.\u001b[39mserialization_id()}\n\u001b[1;32m   1443\u001b[0m )\n",
      "File \u001b[0;32m~/Library/Python/3.9/lib/python/site-packages/torch/serialization.py:1431\u001b[0m, in \u001b[0;36m_load.<locals>.UnpicklerWrapper.find_class\u001b[0;34m(self, mod_name, name)\u001b[0m\n\u001b[1;32m   1429\u001b[0m         \u001b[38;5;28;01mpass\u001b[39;00m\n\u001b[1;32m   1430\u001b[0m mod_name \u001b[38;5;241m=\u001b[39m load_module_mapping\u001b[38;5;241m.\u001b[39mget(mod_name, mod_name)\n\u001b[0;32m-> 1431\u001b[0m \u001b[38;5;28;01mreturn\u001b[39;00m \u001b[38;5;28;43msuper\u001b[39;49m\u001b[43m(\u001b[49m\u001b[43m)\u001b[49m\u001b[38;5;241;43m.\u001b[39;49m\u001b[43mfind_class\u001b[49m\u001b[43m(\u001b[49m\u001b[43mmod_name\u001b[49m\u001b[43m,\u001b[49m\u001b[43m \u001b[49m\u001b[43mname\u001b[49m\u001b[43m)\u001b[49m\n",
      "\u001b[0;31mAttributeError\u001b[0m: Can't get attribute 'C3k2' on <module 'ultralytics.nn.modules.block' from '/Users/shachafemanoel/Library/Python/3.9/lib/python/site-packages/ultralytics/nn/modules/block.py'>"
     ]
    }
   ],
   "source": [
    "!pip install ultralytics \n",
    "\n",
    "\n",
    "from ultralytics import YOLO\n",
    "\n",
    "# Load a model\n",
    "model = YOLO(\"/Users/shachafemanoel/Documents/Hazard-Detection/server/best.pt\")  # load a custom trained model\n",
    "\n",
    "# Export the model\n",
    "model.export(format=\"onnx\", dynamic=True,nms=True)  # or include_nms=True"
   ]
  }
 ],
 "metadata": {
  "kernelspec": {
   "display_name": "Python 3",
   "language": "python",
   "name": "python3"
  },
  "language_info": {
   "codemirror_mode": {
    "name": "ipython",
    "version": 3
   },
   "file_extension": ".py",
   "mimetype": "text/x-python",
   "name": "python",
   "nbconvert_exporter": "python",
   "pygments_lexer": "ipython3",
   "version": "3.9.6"
  }
 },
 "nbformat": 4,
 "nbformat_minor": 2
}
